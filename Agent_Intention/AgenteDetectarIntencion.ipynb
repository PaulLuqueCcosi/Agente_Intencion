{
 "cells": [
  {
   "cell_type": "code",
   "execution_count": 21,
   "metadata": {},
   "outputs": [],
   "source": [
    "import os\n",
    "from llama_index.llms.gemini import Gemini\n",
    "  \n",
    "GOOGLE_API_KEY = os.environ[\"GOOGLE_API_KEY\"]\n"
   ]
  },
  {
   "cell_type": "markdown",
   "metadata": {},
   "source": [
    "# Creacion del LLM\n"
   ]
  },
  {
   "cell_type": "code",
   "execution_count": 22,
   "metadata": {},
   "outputs": [],
   "source": [
    "llm = Gemini(model=\"models/gemini-pro\", api_key=GOOGLE_API_KEY)\n"
   ]
  },
  {
   "cell_type": "markdown",
   "metadata": {},
   "source": [
    "# Clase para la cracion del Agente\n"
   ]
  },
  {
   "cell_type": "code",
   "execution_count": 25,
   "metadata": {},
   "outputs": [],
   "source": [
    "class AgenteIntencion:\n",
    "  def __init__(self, llm, prompt_template):\n",
    "\n",
    "      self.llm = llm\n",
    "      self.prompt_template = prompt_template\n",
    "\n",
    "  def detectar_intencion(self, mensaje_usuario, formato=\"json\"):\n",
    "      \"\"\"\n",
    "      Detecta la intención del mensaje del usuario usando el modelo LLM.\n",
    "      :param mensaje_usuario: Mensaje de prueba que será procesado por el LLM.\n",
    "      :param formato: El formato esperado de la respuesta (json por defecto).\n",
    "      :return: Respuesta del LLM procesada.\n",
    "      \"\"\"\n",
    "      prompt = self.prompt_template.format(message=mensaje_usuario, formato=formato)\n",
    "      response = self.llm.complete(prompt=prompt)\n",
    "      return response"
   ]
  },
  {
   "cell_type": "markdown",
   "metadata": {},
   "source": [
    "# Probar con Prompt"
   ]
  },
  {
   "cell_type": "markdown",
   "metadata": {},
   "source": [
    "## Primera version"
   ]
  },
  {
   "cell_type": "code",
   "execution_count": 28,
   "metadata": {},
   "outputs": [
    {
     "name": "stdout",
     "output_type": "stream",
     "text": [
      "[{'mensaje': '¿Sabes cómo se define una función recursiva?', 'respuesta': CompletionResponse(text='```json\\n{\\n  \"Idea principal\": \"Definición de una función recursiva\",\\n  \"Tema\": \"Programación\",\\n  \"Objetivo\": \"Enseñar\",\\n  \"Intención\": \"Hacer una pregunta para evaluar el conocimiento del estudiante\"\\n}\\n```\\n\\n**Chain of Thought:**\\n\\n1. El mensaje pregunta \"¿Sabes cómo se define una función recursiva?\".\\n2. Esta pregunta implica que el estudiante A quiere saber si el estudiante B comprende el concepto de una función recursiva.\\n3. Por lo tanto, la idea principal del mensaje es la definición de una función recursiva.\\n4. El tema es programación, ya que las funciones recursivas son un concepto de programación.\\n5. El objetivo de A es enseñar, ya que está tratando de transmitir información sobre funciones recursivas.\\n6. La intención específica de A es hacer una pregunta para evaluar el conocimiento del estudiante B sobre funciones recursivas.', additional_kwargs={}, raw={'content': {'parts': [{'text': '```json\\n{\\n  \"Idea principal\": \"Definición de una función recursiva\",\\n  \"Tema\": \"Programación\",\\n  \"Objetivo\": \"Enseñar\",\\n  \"Intención\": \"Hacer una pregunta para evaluar el conocimiento del estudiante\"\\n}\\n```\\n\\n**Chain of Thought:**\\n\\n1. El mensaje pregunta \"¿Sabes cómo se define una función recursiva?\".\\n2. Esta pregunta implica que el estudiante A quiere saber si el estudiante B comprende el concepto de una función recursiva.\\n3. Por lo tanto, la idea principal del mensaje es la definición de una función recursiva.\\n4. El tema es programación, ya que las funciones recursivas son un concepto de programación.\\n5. El objetivo de A es enseñar, ya que está tratando de transmitir información sobre funciones recursivas.\\n6. La intención específica de A es hacer una pregunta para evaluar el conocimiento del estudiante B sobre funciones recursivas.'}], 'role': 'model'}, 'finish_reason': 1, 'index': 0, 'safety_ratings': [], 'token_count': 0, 'grounding_attributions': [], 'block_reason': 0}, logprobs=None, delta=None)}, {'mensaje': '¿Cómo calculas el área de un círculo?', 'respuesta': CompletionResponse(text='```json\\n{\\n  \"Idea principal\": \"Cálculo del área de un círculo\",\\n  \"Tema\": \"Geometría\",\\n  \"Objetivo\": \"Enseñar\",\\n  \"Intención\": \"Hacer una pregunta para iniciar una conversación sobre el cálculo del área de un círculo\"\\n}\\n```\\n\\n**Chain of Thought:**\\n\\n1. El mensaje pregunta \"¿Cómo calculas el área de un círculo?\".\\n2. Esta pregunta implica que el estudiante A quiere saber cómo calcular el área de un círculo.\\n3. El tema del mensaje es la geometría, ya que el área de un círculo es un concepto geométrico.\\n4. El objetivo del mensaje es enseñar, ya que el estudiante A está tratando de transmitir información sobre el cálculo del área de un círculo.\\n5. La intención específica del mensaje es hacer una pregunta para iniciar una conversación sobre el cálculo del área de un círculo.', additional_kwargs={}, raw={'content': {'parts': [{'text': '```json\\n{\\n  \"Idea principal\": \"Cálculo del área de un círculo\",\\n  \"Tema\": \"Geometría\",\\n  \"Objetivo\": \"Enseñar\",\\n  \"Intención\": \"Hacer una pregunta para iniciar una conversación sobre el cálculo del área de un círculo\"\\n}\\n```\\n\\n**Chain of Thought:**\\n\\n1. El mensaje pregunta \"¿Cómo calculas el área de un círculo?\".\\n2. Esta pregunta implica que el estudiante A quiere saber cómo calcular el área de un círculo.\\n3. El tema del mensaje es la geometría, ya que el área de un círculo es un concepto geométrico.\\n4. El objetivo del mensaje es enseñar, ya que el estudiante A está tratando de transmitir información sobre el cálculo del área de un círculo.\\n5. La intención específica del mensaje es hacer una pregunta para iniciar una conversación sobre el cálculo del área de un círculo.'}], 'role': 'model'}, 'finish_reason': 1, 'index': 0, 'safety_ratings': [], 'token_count': 0, 'grounding_attributions': [], 'block_reason': 0}, logprobs=None, delta=None)}, {'mensaje': 'Me podrías explicar la derivada de una función?', 'respuesta': CompletionResponse(text='```json\\n{\\n  \"Idea principal\": \"La derivada de una función\",\\n  \"Tema\": \"Cálculo\",\\n  \"Objetivo\": \"Enseñar\",\\n  \"Intención\": \"Pedir una explicación\"\\n}\\n```\\n\\n**Chain of Thought:**\\n\\n1. El mensaje es una pregunta que pide una explicación.\\n2. La pregunta se refiere a la derivada de una función.\\n3. La derivada es un concepto en cálculo.\\n4. Por lo tanto, el tema es cálculo.\\n5. El objetivo es enseñar, ya que el estudiante A está pidiendo una explicación.\\n6. La intención específica es pedir una explicación sobre la derivada de una función.', additional_kwargs={}, raw={'content': {'parts': [{'text': '```json\\n{\\n  \"Idea principal\": \"La derivada de una función\",\\n  \"Tema\": \"Cálculo\",\\n  \"Objetivo\": \"Enseñar\",\\n  \"Intención\": \"Pedir una explicación\"\\n}\\n```\\n\\n**Chain of Thought:**\\n\\n1. El mensaje es una pregunta que pide una explicación.\\n2. La pregunta se refiere a la derivada de una función.\\n3. La derivada es un concepto en cálculo.\\n4. Por lo tanto, el tema es cálculo.\\n5. El objetivo es enseñar, ya que el estudiante A está pidiendo una explicación.\\n6. La intención específica es pedir una explicación sobre la derivada de una función.'}], 'role': 'model'}, 'finish_reason': 1, 'index': 0, 'safety_ratings': [], 'token_count': 0, 'grounding_attributions': [], 'block_reason': 0}, logprobs=None, delta=None)}]\n"
     ]
    }
   ],
   "source": [
    "import json\n",
    "\n",
    "# Definimos un prompt base\n",
    "prompt_template = '''\n",
    "Estás ayudando a identificar la estructura y la intención de un mensaje entre dos estudiantes, A y B. El estudiante A está enseñando a B sobre un tema. Cuando el estudiante A envía un mensaje, tu tarea es analizarlo y responder los siguientes puntos:\n",
    "\n",
    "Idea principal: ¿Cuál es el concepto central del mensaje de A?\n",
    "Tema: ¿De qué tema o área está hablando el estudiante A?\n",
    "Objetivo: ¿Qué quiere lograr A con este mensaje? (por ejemplo, enseñar, preguntar, corregir, aclarar).\n",
    "Intención: ¿Cuál es la intención específica de A en este mensaje? (por ejemplo, enseñar, abrir conversación, pedir explicación, corregir).\n",
    "Antes de dar tu respuesta, piensa paso a paso sobre cómo se construye el mensaje y proporciona una explicación clara usando la técnica Chain of Thought. \n",
    "\n",
    "Ahora analiza el siguiente mensaje '{message}' y dame la respuesta en formato '{formato}'\n",
    "'''\n",
    "\n",
    "\n",
    "# Creamos la instancia del agente\n",
    "agente = AgenteIntencion(llm, prompt_template)\n",
    "\n",
    "# Lista de mensajes para probar\n",
    "mensajes_prueba = [\n",
    "    {\"message\": \"¿Sabes cómo se define una función recursiva?\", \"formato\": \"json\"},\n",
    "    {\"message\": \"¿Cómo calculas el área de un círculo?\", \"formato\": \"json\"},\n",
    "    {\"message\": \"Me podrías explicar la derivada de una función?\", \"formato\": \"json\"},\n",
    "]\n",
    "\n",
    "# Probar varios mensajes a la vez\n",
    "resultados = []\n",
    "\n",
    "for prueba in mensajes_prueba:\n",
    "    mensaje = prueba[\"message\"]\n",
    "    formato = prueba[\"formato\"]\n",
    "    respuesta = agente.detectar_intencion(mensaje, formato)\n",
    "    resultados.append({\n",
    "        \"mensaje\": mensaje,\n",
    "        \"respuesta\": respuesta\n",
    "    })\n",
    "\n",
    "# Mostrar las respuestas en formato JSON para un fácil análisis\n",
    "print(resultados)"
   ]
  },
  {
   "cell_type": "code",
   "execution_count": 13,
   "metadata": {},
   "outputs": [
    {
     "name": "stdout",
     "output_type": "stream",
     "text": [
      "Intención detectada: Hacer una reserva\n"
     ]
    }
   ],
   "source": [
    "# Definimos un prompt base\n",
    "prompt_template = \"\"\"\n",
    "Eres un agente de servicio al cliente. A continuación se muestra una conversación. Identifica la intención del cliente.\n",
    "\n",
    "Cliente: {mensaje_usuario}\n",
    "Intención:\n",
    "\"\"\"\n",
    "\n",
    "# Creamos una instancia de AgenteIntencion\n",
    "agente = AgenteIntencion(llm, prompt_template)\n",
    "\n",
    "# Probamos la detección de intención\n",
    "mensaje = \"Quiero reservar una mesa para mañana a las 7 PM\"\n",
    "intencion_detectada = agente.detectar_intencion(mensaje)\n",
    "print(\"Intención detectada:\", intencion_detectada)"
   ]
  },
  {
   "cell_type": "markdown",
   "metadata": {},
   "source": [
    "## Separado en Funciones"
   ]
  },
  {
   "cell_type": "code",
   "execution_count": 39,
   "metadata": {},
   "outputs": [
    {
     "name": "stdout",
     "output_type": "stream",
     "text": [
      "```json\n",
      "{\n",
      "  \"Idea principal\": \"Definición de una función recursiva\",\n",
      "  \"Tema\": \"Programación\",\n",
      "  \"Objetivo\": \"Enseñar\",\n",
      "  \"Intención\": \"Hacer una pregunta para evaluar la comprensión del estudiante\"\n",
      "}\n",
      "```\n",
      "\n",
      "**Chain of Thought:**\n",
      "\n",
      "1. El mensaje pregunta sobre la definición de una función recursiva.\n",
      "2. Una función recursiva es un concepto de programación.\n",
      "3. El objetivo del mensaje es enseñar al estudiante sobre funciones recursivas.\n",
      "4. La intención específica es hacer una pregunta para evaluar la comprensión del estudiante.\n",
      "respuesta\n"
     ]
    }
   ],
   "source": [
    "import json\n",
    "\n",
    "# Definimos un prompt base\n",
    "prompt_template = '''\n",
    "Estás ayudando a identificar la estructura y la intención de un mensaje entre dos estudiantes, A y B. El estudiante A está enseñando a B sobre un tema. Cuando el estudiante A envía un mensaje, tu tarea es analizarlo y responder los siguientes puntos:\n",
    "\n",
    "Idea principal: ¿Cuál es el concepto central del mensaje de A?\n",
    "Tema: ¿De qué tema o área está hablando el estudiante A?\n",
    "Objetivo: ¿Qué quiere lograr A con este mensaje? (por ejemplo, enseñar, preguntar, corregir, aclarar).\n",
    "Intención: ¿Cuál es la intención específica de A en este mensaje? (por ejemplo, enseñar, abrir conversación, pedir explicación, corregir).\n",
    "Antes de dar tu respuesta, piensa paso a paso sobre cómo se construye el mensaje y proporciona una explicación clara usando la técnica Chain of Thought. \n",
    "\n",
    "Ahora analiza el siguiente mensaje '{message}' y dame la respuesta en un objeto de tipo '{formato}' \n",
    "'''\n",
    "\n",
    "\n",
    "# Lista de mensajes para probar\n",
    "mensajes_prueba = [\n",
    "    {\"message\": \"¿Sabes cómo se define una función recursiva?\", \"formato\": \"json\"},\n",
    "]\n",
    "\n",
    "\n",
    "\n",
    "resultados = []\n",
    "\n",
    "for prueba in mensajes_prueba:\n",
    "    mensaje = prueba[\"message\"]\n",
    "    formato = prueba[\"formato\"]\n",
    "    respuesta = agente.detectar_intencion(mensaje, formato)\n",
    "    # print(json.dumps(resultados))\n",
    "    print(respuesta)\n",
    "    print(\"respuesta\")\n",
    "    \n",
    "    # resultados.append({\n",
    "    #     \"mensaje\": mensaje,\n",
    "    #     \"respuesta\": respuesta\n",
    "    # })\n",
    "\n",
    "# Mostrar las respuestas en formato JSON para un fácil análisis\n",
    "# print(resultados)"
   ]
  }
 ],
 "metadata": {
  "kernelspec": {
   "display_name": ".venv",
   "language": "python",
   "name": "python3"
  },
  "language_info": {
   "codemirror_mode": {
    "name": "ipython",
    "version": 3
   },
   "file_extension": ".py",
   "mimetype": "text/x-python",
   "name": "python",
   "nbconvert_exporter": "python",
   "pygments_lexer": "ipython3",
   "version": "3.10.12"
  }
 },
 "nbformat": 4,
 "nbformat_minor": 2
}
